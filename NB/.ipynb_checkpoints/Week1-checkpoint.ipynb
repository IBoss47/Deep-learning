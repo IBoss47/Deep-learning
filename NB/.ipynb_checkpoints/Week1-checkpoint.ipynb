{
 "cells": [
  {
   "cell_type": "markdown",
   "id": "09a318f4-6c9b-41b2-bf4c-78e89b1d1a9f",
   "metadata": {},
   "source": [
    "# Deep Learning for Computer Vision # Week1\n",
    "## Basics python\n",
    "**Instructor: Dr. Phuriwat Worrawichaipat, Silpakorn University**\n",
    "\n",
    "Topic: Basic Python & numpy\n",
    "\n",
    "ไฟล์นี้จะเป็นไฟล์ที่ใช้สาธิตการเขียนภาษาไพธอน โดยจุดประสงค์หลักคือให้นศ.ที่ทั้งมีและไม่มีประสบการณ์การโค้ดภาษาไพธอนได้ทบทวนและเรียนรู้วิธีการเขียนโค้ด\n",
    "เนื่องด้วยภาษา C และ Java ที่เรียนมานั้นมี Syntax ที่จำเพาะแต่ Python นั้นมี Syntax ที่แตกต่างออกไป(เกือบจะสิ้นเชิง)\n",
    "\n",
    "ไฟล์นี้จะแสดงตัวอย่างของกระบวนการหลักๆที่จำเป็น(Logic)ที่เขียนโดยภาษาไพธอน ตย. การประกาศตัวแปร ชนิดตัวแปร เงื่อนไข loop หรือ opertor พิเศษต่างๆ\n",
    "ให้ผู้อ่านทำความเข้าใจกับตัวคำสั่งและ Output นั้นๆ"
   ]
  },
  {
   "cell_type": "markdown",
   "id": "3561220a-5626-4cb2-b2b6-514690dcd0c8",
   "metadata": {},
   "source": [
    "## Variable\n",
    "\n",
    "ตัวอย่างการประกาศตัวแปรชนิดต่าง ๆ เช่น จำนวนเต็ม ```decimal``` ```List``` ```Tuple``` ```Dictionary``` และการแสดงผลด้วยคำสั่ง ```print()``` รวมถึงการใช้ ```len()``` เพื่อนับจำนวนสมาชิกในลิสต์"
   ]
  },
  {
   "cell_type": "code",
   "execution_count": 1,
   "id": "f800abcd-1757-490d-b8c1-b65fde933553",
   "metadata": {},
   "outputs": [
    {
     "name": "stdout",
     "output_type": "stream",
     "text": [
      "List c is ['str', 1, 2, 3, 4] and list d is [0, 1, 'c']\n",
      "length of b is  3\n"
     ]
    }
   ],
   "source": [
    "# numbers\n",
    "a = 10\n",
    "b = 0.10\n",
    "\n",
    "# List\n",
    "c = [\"str\", 1, 2, 3, 4]\n",
    "d = [0, 1, \"c\"]\n",
    "\n",
    "# tuple\n",
    "coor = (4, 4)\n",
    "\n",
    "# Dictionary\n",
    "contact = {\"A\": \"02346758\", \"B\": \"012367894\", \"C\": \"012378429\"}\n",
    "\n",
    "print(f\"List c is {c} and list d is {d}\")\n",
    "print(\"length of b is \", len(d))  # use comma in-between"
   ]
  },
  {
   "cell_type": "markdown",
   "id": "5db87384-cd62-453d-b482-ad0c3fbf1d7b",
   "metadata": {},
   "source": [
    "## คำสั่ง If  \n",
    "แสดงตัวอย่างการใช้คำสั่ง `if`, `elif`, และ `else` เพื่อควบคุมทิศทางการทำงานของโปรแกรมตามเงื่อนไขที่กำหนด\n",
    "\n",
    "ด้านล่างจะเป็นตัวอย่างของการตัดเกรด"
   ]
  },
  {
   "cell_type": "code",
   "execution_count": 2,
   "id": "b6281da7-5795-4af7-97a5-1570ce9c2b05",
   "metadata": {},
   "outputs": [
    {
     "name": "stdout",
     "output_type": "stream",
     "text": [
      "Five is greater than two!\n",
      "point is: 100\n",
      "Grade A\n"
     ]
    }
   ],
   "source": [
    "if 5 > 2:\n",
    "    print(\"Five is greater than two!\")\n",
    "    \n",
    "point = 100\n",
    "print(\"point is:\", point)\n",
    "\n",
    "if point >= 80:\n",
    "    print(\"Grade A\")\n",
    "elif point >= 70:\n",
    "    print(\"Grade B\")\n",
    "else:\n",
    "    print(\"Lower than B\")"
   ]
  },
  {
   "cell_type": "markdown",
   "id": "ccaec063-c122-4892-96d8-bb5ebf67e852",
   "metadata": {},
   "source": [
    "## Loop\n",
    "- `range(n)` => จะให้ผลลัพธ์เป็น iterator ที่มีค่า 0 ถึง n-1 จากนั้นเราสามารถใช้ for each loop ได้<br>\n",
    "- `print()` ปกติแล้วจะ print แบบขึ้นบรรทัดใหม่เสมอ แต่เราสามารถบังคับให้ไม่ขึ้นได้โดยการกำหนด `end=\"\"` <br>\n",
    "- `enumerate()` ใช้ในการวนลูปผ่านรายการ (list) พร้อมกับให้ค่า **ลำดับดัชนี (index)** และ **ค่าของสมาชิก** ในแต่ละรอบของลูป  \n",
    "เช่น `enumerate(c)` จะให้ทั้งลำดับของสมาชิกใน `c` และค่าของสมาชิกนั้นในแต่ละรอบ"
   ]
  },
  {
   "cell_type": "code",
   "execution_count": 3,
   "id": "b37ef4e3-0476-41af-be95-918ca31e72a1",
   "metadata": {},
   "outputs": [
    {
     "name": "stdout",
     "output_type": "stream",
     "text": [
      "0\n",
      "1\n",
      "2\n",
      "3\n",
      "4\n",
      "-----------------\n",
      "n: 0, value: str\n",
      "n: 1, value: 1\n",
      "n: 2, value: 2\n",
      "n: 3, value: 3\n",
      "n: 4, value: 4\n"
     ]
    }
   ],
   "source": [
    "for i in range(5):\n",
    "    print(i)\n",
    "\n",
    "# for i in range(5):\n",
    "#     print(i, end=\" \")\n",
    "print(\"-----------------\")\n",
    "\n",
    "c = [\"str\", 1, 2, 3, 4]\n",
    "for n, value in enumerate(c):\n",
    "    print(f\"n: {n}, value: {value}\")"
   ]
  },
  {
   "cell_type": "markdown",
   "id": "2f39b5fa-80e2-48af-923b-57ddd01c3838",
   "metadata": {},
   "source": [
    "## Function\n",
    "รูปแบบของฟังก์ชันในภาษา Python:\n",
    "\n",
    "```python\n",
    "def ชื่อฟังก์ชัน(พารามิเตอร์):\n",
    "    # คำสั่งที่ต้องการให้ทำงาน\n",
    "    return ค่าที่ส่งกลับ #*(ถ้ามี)*\n"
   ]
  },
  {
   "cell_type": "code",
   "execution_count": 4,
   "id": "c6157522-8427-412a-88cd-74d7dc6c4b2e",
   "metadata": {},
   "outputs": [
    {
     "name": "stdout",
     "output_type": "stream",
     "text": [
      "Defining a function\n"
     ]
    }
   ],
   "source": [
    "# แบบไม่คืนค่า\n",
    "def printDash():\n",
    "    print(\"------------\")\n",
    "print(\"Defining a function\")"
   ]
  },
  {
   "cell_type": "code",
   "execution_count": 5,
   "id": "3948e26c-6a30-422b-89be-61724a22f0ca",
   "metadata": {},
   "outputs": [
    {
     "name": "stdout",
     "output_type": "stream",
     "text": [
      "False\n"
     ]
    }
   ],
   "source": [
    "# แบบคืนค่า\n",
    "def isEven(num):\n",
    "    if num % 2 == 0:\n",
    "        return True\n",
    "    else:\n",
    "        return False\n",
    "\n",
    "print(isEven(3))"
   ]
  },
  {
   "cell_type": "markdown",
   "id": "e50085ca-b402-4c21-915a-e773ed82683d",
   "metadata": {},
   "source": [
    "## การเข้าถึงข้อมูลใน Dictionary และการวนลูป  \n",
    "- แสดงค่าทั้งหมดใน dictionary ด้วย `print()` \n",
    "    - ตัวแปร `contact` เคยประกาศไว้ตั้งแต่[ตรงนี้](#Variable) cell ไหนเคยรันไว้จะมีผลต่อ cell ด้านล่างด้วย\n",
    "- เข้าถึงค่าสมาชิกแบบระบุคีย์ เช่น `contact[\"C\"]`\n",
    "- เพิ่มสมาชิกใหม่เข้าไปใน dictionary\n",
    "- วนลูปผ่าน `keys()` เพื่อแสดงชื่อและเบอร์โทร\n",
    "    - `keys()` เป็นคำสั่งที่ช่วยดึง keys ทั้งหมดใน dict ออกมา\n",
    "- ใช้ `enumerate()` เพื่อแสดงลำดับของคีย์ใน dictionary"
   ]
  },
  {
   "cell_type": "code",
   "execution_count": 6,
   "id": "af60b779-ffd5-4846-b09d-7e104c8eb72e",
   "metadata": {},
   "outputs": [
    {
     "name": "stdout",
     "output_type": "stream",
     "text": [
      "{'A': '02346758', 'B': '012367894', 'C': '012378429'}\n",
      "012378429\n",
      "name: A phone: 02346758\n",
      "name: B phone: 012367894\n",
      "name: C phone: 012378429\n",
      "name: 99 phone: 012379845\n",
      "key: A\n",
      "key: B\n",
      "key: C\n",
      "key: 99\n",
      "------------\n",
      "n: 0 key: A\n",
      "n: 1 key: B\n",
      "n: 2 key: C\n",
      "n: 3 key: 99\n"
     ]
    }
   ],
   "source": [
    "print(contact)\n",
    "print(contact[\"C\"])\n",
    "\n",
    "contact[99] = \"012379845\"\n",
    "for k in contact.keys():\n",
    "    print(\"name:\", k, \"phone:\", contact[k])\n",
    "\n",
    "for k in contact.keys():\n",
    "    print(\"key:\", k)\n",
    "printDash()\n",
    "for n, k in enumerate(contact.keys()):\n",
    "    print(f\"n: {n} key:\", k)"
   ]
  },
  {
   "cell_type": "markdown",
   "id": "14162e23-691f-4436-afc9-c9abd09b699f",
   "metadata": {},
   "source": [
    "## List & Tuple operations\n",
    "\n",
    "- สร้างลิสต์ (`list`) และทูเพิล (`tuple`) ที่มี datatype หลายประเภท\n",
    "- เข้าถึงสมาชิกในแต่ละตำแหน่งด้วย index\n",
    "- เรียก printDash() ที่ประกาศไว้ตั้งแต่[ตรงนี้](#Function)\n",
    "- ใช้ `len()` เพื่อหาความยาว\n",
    "- ใช้เมธอด `.remove()` เพื่อลบ และ `.append()` เพื่อต่อท้ายกับลิสต์\n",
    "- เปรียบเทียบประเภทข้อมูลด้วย `type()`\n",
    "- แสดงให้เห็นว่า tuple ไม่สามารถเพิ่มหรือลบสมาชิกได้ (บรรทัดที่ถูกคอมเมนต์ไว้จะ error ถ้าเปิดใช้งาน)\n"
   ]
  },
  {
   "cell_type": "code",
   "execution_count": 7,
   "id": "12edfc00-b1de-4b5e-b5b3-022229c3d472",
   "metadata": {},
   "outputs": [
    {
     "name": "stdout",
     "output_type": "stream",
     "text": [
      "[1, 2, 0.1, 'apple', True]\n",
      "(4, 5)\n",
      "apple\n",
      "4\n",
      "------------\n",
      "length ls is 5\n",
      "length ls is 2\n",
      "length ls is 4: [1, 0.1, 'apple', True] -> removed 2\n",
      "length ls is 5: [1, 0.1, 'apple', True, 10]\n",
      "<class 'list'>\n",
      "------------\n",
      "length tup is 2\n",
      "<class 'tuple'>\n"
     ]
    }
   ],
   "source": [
    "# List of >2 data types\n",
    "ls = [1, 2, 0.1, \"apple\", True]\n",
    "tup = (4, 5)\n",
    "\n",
    "print(ls)\n",
    "print(tup)\n",
    "print(ls[3])  # Output: apple\n",
    "print(tup[0])  # Output: 4\n",
    "printDash()\n",
    "\n",
    "print(f\"length ls is {len(ls)}\")\n",
    "print(f\"length ls is {len(tup)}\")\n",
    "ls.remove(2)\n",
    "print(f\"length ls is {len(ls)}: {ls} -> removed {2}\")\n",
    "ls.append(10)\n",
    "print(f\"length ls is {len(ls)}: {ls}\")\n",
    "print(type(ls))\n",
    "printDash()\n",
    "print(f\"length tup is {len(tup)}\")\n",
    "print(type(tup))\n",
    "# print(tup.append(2)) # ระเบิด\n",
    "# print(tup.remove(2)) # ระเบิด"
   ]
  },
  {
   "cell_type": "markdown",
   "id": "66b482f6-84dc-4fb9-b513-c463ce192f64",
   "metadata": {},
   "source": [
    "## Objected-Oriented Programming\n",
    "\n",
    "**แนวคิดแบบอ้างอิง (Reference)**\n",
    "- การกำหนด `M = L[3]` ไม่ได้สร้างสำเนาใหม่ แต่ให้ `M` ชี้ไปยังลิสต์เดียวกับ `L[3]`\n",
    "- การเปลี่ยนแปลงค่าใน `M` จะกระทบ `L[3]` ด้วย เพราะทั้งคู่อ้างอิงข้อมูลเดียวกัน\n",
    "- ตัวแปร `name` ไม่ได้รับผลกระทบจากการเปลี่ยนค่าภายหลังใน `M` เพราะเป็นการเก็บค่าลงลิสต์ ไม่ได้เชื่อมต่อแบบ pointer\n",
    "\n",
    "แนวคิดนี้เกี่ยวข้องกับ **พฤติกรรมของ object** และ **การจัดการหน่วยความจำ** "
   ]
  },
  {
   "cell_type": "code",
   "execution_count": 8,
   "id": "2230c0c5-e086-421a-98af-ff1576cecff3",
   "metadata": {},
   "outputs": [
    {
     "name": "stdout",
     "output_type": "stream",
     "text": [
      "Frodo\n",
      "Aragon\n",
      "Frodo\n"
     ]
    }
   ],
   "source": [
    "L = [1, 2.1, \"Hello\", [1, 2, \"Sam\"]]\n",
    "name = \"Frodo\"\n",
    "M = L[3]  # assign pointer\n",
    "\n",
    "M[2] = name\n",
    "print(L[3][2])\n",
    "M[2] = \"Aragon\"\n",
    "print(L[3][2])\n",
    "print(name)"
   ]
  },
  {
   "cell_type": "markdown",
   "id": "ad742b90-b295-46ca-8df0-1ae5dbe66ae8",
   "metadata": {},
   "source": [
    "## Arithmatic operation\n",
    "\n",
    "ในส่วนนี้นั้นเป็นตัวดำเนินการตัวเลขที่ Python นั้นมีให้ ก็จะเป็นการ บวก ลบ คูณ หาร mod ยกกำลัง"
   ]
  },
  {
   "cell_type": "code",
   "execution_count": 9,
   "id": "4db45cc8-fada-4960-8566-bd7b97bb8aee",
   "metadata": {
    "scrolled": true
   },
   "outputs": [
    {
     "name": "stdout",
     "output_type": "stream",
     "text": [
      "Sum 10.1\n",
      "Differece 9.9\n",
      "Product 1.0\n",
      "Mod 1\n",
      "Square 100\n",
      "c => ['str', 1, 2, 3, 4]\n",
      "['str', 1, 2, 3, 4, 'test']\n",
      "------------\n",
      "c => ['str', 1, 2, 3, 4]\n",
      "list => ['str', 1, 3, 4, 'test']\n",
      "<class 'list'>\n"
     ]
    }
   ],
   "source": [
    "print(\"Sum\", a + b)\n",
    "print(\"Differece\", a - b)\n",
    "print(\"Product\", a * b)\n",
    "print(\"Mod\", a % 3)\n",
    "print(\"Square\", a**2)\n",
    "\n",
    "\"\"\"\n",
    "del a  # Deleting value\n",
    "try:\n",
    "    print(a)\n",
    "except:\n",
    "    print(\"Error a is not defined\")\n",
    "\"\"\"\n",
    "\n",
    "print(f\"c => {c}\")\n",
    "list = c.copy()\n",
    "list.append(\"test\")\n",
    "print(list)\n",
    "printDash()\n",
    "# list.insert(1,\"one\")\n",
    "list.remove(2)\n",
    "print(f\"c => {c}\")\n",
    "print(f\"list => {list}\")\n",
    "\n",
    "# Showing type of variable\n",
    "print(type(c))"
   ]
  },
  {
   "cell_type": "markdown",
   "id": "3a2fa321-860c-4e79-814d-dda5977a8e42",
   "metadata": {},
   "source": [
    "## List ซ้อน List  \n",
    "ใน Python ไม่มีโครงสร้างลิสต์ 2 มิติโดยตรง แต่สามารถจำลองได้ด้วยการเก็บลิสต์ไว้ภายในลิสต์อีกชั้นหนึ่ง  \n",
    "ตอนนี้ list เป็น `list => ['str', 1, 3, 4, 'test']`\n",
    "- แก้ไขสมาชิกสุดท้ายของลิสต์ให้เป็นค่าเดียว (`\"last\"`)\n",
    "- เปลี่ยนสมาชิกนั้นให้เป็นลิสต์ใหม่ (ซ้อนลิสต์)\n",
    "- เข้าถึงสมาชิกย่อยในลิสต์ซ้อน เช่น `list[-1][1]`\n",
    "- ตรวจสอบชนิดข้อมูลด้วย `type()`\n"
   ]
  },
  {
   "cell_type": "code",
   "execution_count": 10,
   "id": "eabb8d55-d88d-4e30-ac4c-7ed208f53f9b",
   "metadata": {},
   "outputs": [
    {
     "name": "stdout",
     "output_type": "stream",
     "text": [
      "['str', 1, 3, 4, 'last']\n",
      "['str', 1, 3, 4, ['one', 'two', 'three']]\n",
      "two\n",
      "<class 'str'>\n",
      "6\n",
      "[[1, 2, 3], [4, 5, 6], [7, 8, 9]]\n",
      "[1, 2, 3]\n",
      "[4, 5, 6]\n",
      "[7, 8, 9]\n"
     ]
    }
   ],
   "source": [
    "list[-1] = \"last\"\n",
    "print(list)\n",
    "list[-1] = [\"one\", \"two\", \"three\"]\n",
    "print(list)\n",
    "print(list[-1][1])\n",
    "print(type(list[-1][1]))\n",
    "\n",
    "# สร้าง array 2 มิติแบบ list ซ้อน list\n",
    "matrix = [\n",
    "    [1, 2, 3],\n",
    "    [4, 5, 6],\n",
    "    [7, 8, 9]\n",
    "]\n",
    "\n",
    "print(matrix[1][2])  # เข้าถึงสมาชิกในตำแหน่งแถวที่ 1 คอลัมน์ที่ 2 (index เริ่มที่ 0) Output: 6\n",
    "\n",
    "print(matrix) # print ตรงๆก็ได้แต่จะไม่ค่อยสวยเพราะจเป็นแถวเดียว จะไม่เหมาะเมื่อเป็น 2D ที่ใหญ่กว่านี้\n",
    "# วนลูปแสดงค่าทั้ง matrix\n",
    "for row in matrix:\n",
    "    print(row)\n"
   ]
  },
  {
   "cell_type": "markdown",
   "id": "99999bb1-7430-4940-8d09-194774bfc5f8",
   "metadata": {},
   "source": [
    "## 📝 <font color=\"red\">แบบฝึกหัด basic python</font>\n",
    "\n",
    "ก่อนจะไป Numpy ลองทำแบบฝึกหัดกันเล่นๆทบทวน Python กันก่อนนะครับ"
   ]
  },
  {
   "cell_type": "markdown",
   "id": "8ee7b64a-a894-48d4-a3be-89b0d73f171b",
   "metadata": {},
   "source": [
    "### <font color=\"red\">แบบฝึกหัดที่ 1</font>\n",
    "\n",
    "**สร้างลิสต์และวนลูป**\n",
    "1. เขียน list `fruits` ที่มี `[\"แอปเปิล\", \"กล้วย\", \"มะม่วง\"]` เป็นสมาชิก\n",
    "2. ใช้ `enumerate()` และ loop เพื่อพิมพ์ผลลัพธ์ดัง output ด้านล่าง\n",
    "3. ใช้ if เพื่อดักเมื่อเจอ `\"มะม่วง\"` ให้พิมพ์ `\"แมงโก้!\"`\n",
    "```python\n",
    "output:\n",
    "\n",
    "1 แอปเปิล\n",
    "2 กล้วย\n",
    "3 แมงโก้!"
   ]
  },
  {
   "cell_type": "code",
   "execution_count": 11,
   "id": "b6d9b7a8-d52f-44bb-b678-afafe4a49261",
   "metadata": {},
   "outputs": [
    {
     "name": "stdout",
     "output_type": "stream",
     "text": [
      "Apple\n",
      "Banana\n",
      "Mango!!\n"
     ]
    }
   ],
   "source": [
    "## คำตอบแบบฝึกหัดที่ 1\n",
    "\n",
    "fruits = [\"Apple\" , \"Banana\" , \"Mango\"]\n",
    "for k, v in enumerate(fruits):\n",
    "    if(v == \"Mango\"):\n",
    "        print(\"Mango!!\")\n",
    "        continue\n",
    "    print(v)\n",
    "   "
   ]
  },
  {
   "cell_type": "markdown",
   "id": "6481b67c-1a3b-4108-9834-da3c06dfc04c",
   "metadata": {},
   "source": [
    "### <font color=\"red\">แบบฝึกหัดที่ 2</font>\n",
    "1. เขียนตัวแปรประเภท dictionary ที่มี key และ value เป็น `{\"ชายเหมี่ยง\": \"เชียงใหม่\", \"ชายเรียง\": \"เชียงราย\", \"ชายสี่\": \"หมี่เกี๊ยว!!\"}`\n",
    "2. ใช้ loop กับฟังก์ชัน `keys()` เพื่อพิมพ์มุกแต่ละตับออกมาให้อยู่ในรูปแบบดั่ง output\n",
    "3. เพิ่มตับสุดท้ายเข้าไปว่า `\"ชายน้อย\"` ตอบเป็น `\"พะ พี่ พจ จะ มะ มาน\"` โดยการเรียก `gags[\"ชายน้อย\"] = ...`\n",
    "4. จากนั้นทำข้อ 2 อีกรอบ\n",
    "\n",
    "```python\n",
    "output:\n",
    "\n",
    "ชายเหมี่ยง =>  เชียงใหม่\n",
    "ชายเรียง =>  เชียงราย\n",
    "ชายสี่ =>  หมี่เกี๊ยว!!\n",
    "แฮร่!!!....\n",
    "---------------\n",
    "ชายเหมี่ยง =>  เชียงใหม่\n",
    "ชายเรียง =>  เชียงราย\n",
    "ชายสี่ =>  หมี่เกี๊ยว!!\n",
    "ชายน้อย =>  พะ พี่ พจ จะ มะ มาน\n",
    "เฉียบบบบ!!"
   ]
  },
  {
   "cell_type": "code",
   "execution_count": 12,
   "id": "1e60d0ef-07f4-4e34-b3aa-369dec1bfd3f",
   "metadata": {},
   "outputs": [
    {
     "name": "stdout",
     "output_type": "stream",
     "text": [
      "ชายเมี่ยง\n",
      "ชายเรียง\n",
      "ชายสี่\n",
      "แฮร่!!!....\n",
      "__________\n",
      "ชายเมี่ยง\n",
      "ชายเรียง\n",
      "ชายสี่\n",
      "ชายน้อย\n",
      "เฉียบบบบ!!\n"
     ]
    }
   ],
   "source": [
    "## คำตอบแบบฝึกหัดที่ 2\n",
    "gags = {\"ชายเมี่ยง\" : \"เชี่ยงใหม่\", \"ชายเรียง\" : \"เชียงราย\", \"ชายสี่\" : \"หมี่เกี๊ยว\"}\n",
    "for key in gags.keys():\n",
    "    print(key)\n",
    "print(\"แฮร่!!!....\")\n",
    "print(\"__________\")\n",
    "gags[\"ชายน้อย\"] = \"พะ พี่ พจ จะ มะ มาน\"\n",
    "for key in gags.keys():\n",
    "    print(key)\n",
    "print(\"เฉียบบบบ!!\")"
   ]
  },
  {
   "cell_type": "markdown",
   "id": "c5fdd653-a621-4aa3-846f-17d7c1cb27e7",
   "metadata": {},
   "source": [
    "## Numpy \n",
    "\n",
    "- สร้าง array แบบ 1 มิติ (`arr1d`)\n",
    "- ใช้ `len()` เพื่อนับจำนวนสมาชิก\n",
    "- Slice ข้อมูลบางส่วน เช่น `arr1d[0 : len(arr1d)]`\n",
    "- ใช้ `[::-1]` เพื่อเรียงลำดับจากหลังมาหน้า\n",
    "- คำนวณค่าเฉลี่ย (`mean`) และหาค่ามากที่สุด (`max`)\n",
    "- สร้าง array ใหม่อีกอัน (`arr1d_2`) เพื่อใช้เปรียบเทียบกับ `arr1d` แบบตัวต่อตัว (element-wise)\n",
    "- ใช้ `np.abs()` เพื่อหาค่าสัมบูรณ์\n",
    "- คำนวณค่าต่างของ array (`arr1d - arr1d_2`) เพื่อให้ได้ array ใหม่ (`arr1d_3`)arr"
   ]
  },
  {
   "cell_type": "code",
   "execution_count": 13,
   "id": "bbf9f4ab-e516-49e2-ab6a-463be2356c94",
   "metadata": {},
   "outputs": [
    {
     "name": "stdout",
     "output_type": "stream",
     "text": [
      "6\n",
      "------------\n",
      "[ 1 10  3  4 12 -5]\n",
      "[-5 12  4  3 10  1]\n",
      "4.166666666666667\n",
      "12\n",
      "------------\n",
      "[ True False False  True  True False]\n",
      "[False  True  True False False  True]\n",
      "[ 7  4  2  6 14 10]\n",
      "[-6  6  1 -2 -2  5]\n"
     ]
    }
   ],
   "source": [
    "import numpy as np\n",
    "\n",
    "arr1d = np.array([1, 10, 3, 4, 12, -5])\n",
    "# arr1d = np.array([1, 10, 3.0, 4, 12, -5])\n",
    "print(len(arr1d))\n",
    "printDash()\n",
    "print(arr1d[0 : len(arr1d)])  # 1, 2\n",
    "print(arr1d[::-1])\n",
    "print(arr1d.mean())\n",
    "print(arr1d.max())\n",
    "printDash()\n",
    "arr1d = np.array([1, 10, 3, 4, 12, -5])\n",
    "arr1d_2 = np.array([7, 4, 2, 6, 14, -10])\n",
    "print(arr1d_2 > arr1d)\n",
    "print(arr1d_2 < arr1d)\n",
    "print(np.abs(arr1d_2))\n",
    "\n",
    "# arr1d_3 = arr1d + arr1d_2\n",
    "arr1d_3 = arr1d - arr1d_2\n",
    "# arr1d_3 = arr1d * arr1d_2\n",
    "print(arr1d_3)"
   ]
  },
  {
   "cell_type": "markdown",
   "id": "36b1d1f4-717c-41f3-b743-276943007cbc",
   "metadata": {},
   "source": [
    "### Array2D\n",
    "- `arr2d_1`, `arr2d_2`, และ `arr2d_3` เป็น array 2 มิติขนาด 2x3\n",
    "- ถ้าใน array มีค่า float เช่น `2.0` จะทำให้ทั้ง array ถูกแปลงเป็น `float64` โดยอัตโนมัติ\n",
    "- ถ้าต้องการระบุชนิดข้อมูลเอง เช่น `float32`, ให้ใช้ `dtype=np.float32` เช่น `arr2d_3`\n",
    "\n",
    "### Array 4 มิติ\n",
    "- สร้าง array ขนาด 4 มิติ (3 block, 1 ช่อง, 2 แถว, 3 คอลัมน์)\n",
    "- ใช้ ndim เพื่อตรวจสอบจำนวนมิติของ array"
   ]
  },
  {
   "cell_type": "code",
   "execution_count": 14,
   "id": "028faedc-0d2f-4410-ab75-b95619aa957f",
   "metadata": {},
   "outputs": [
    {
     "name": "stdout",
     "output_type": "stream",
     "text": [
      "[[1 2 3]\n",
      " [4 5 6]]\n",
      "[[1. 2. 3.]\n",
      " [4. 5. 6.]]\n",
      "arr2d_2 => float64\n",
      "arr2d_3 => float32\n",
      "------------\n",
      ">เปลี่ยน dtype ของ arr2d_2\n",
      "arr2d_2 => float32\n",
      "------------\n",
      "[[[[1. 1. 1.]\n",
      "   [1. 1. 1.]]]\n",
      "\n",
      "\n",
      " [[[1. 1. 1.]\n",
      "   [1. 1. 1.]]]\n",
      "\n",
      "\n",
      " [[[1. 1. 1.]\n",
      "   [1. 1. 1.]]]]\n",
      "float64\n",
      "4\n",
      "------------\n",
      "[1 2 3]\n",
      "[4 5 6]\n",
      "[7 8 9]\n",
      "1.0\n",
      "2.0\n",
      "3.0\n",
      "4.0\n",
      "5.0\n",
      "6.0\n",
      "(2, 3)\n",
      "1.0 4.0 \n",
      "2.0 5.0 \n",
      "3.0 6.0 \n"
     ]
    }
   ],
   "source": [
    "arr2d_1 = np.array([[1, 2, 3], [4, 5, 6]])\n",
    "arr2d_2 = np.array([[1, 2.0, 3], [4, 5, 6]])\n",
    "arr2d_3 = np.array([[1, 2.0, 3], [4, 5, 6]], dtype=np.float32)\n",
    "zeros = np.zeros([2, 3], dtype=np.int32)\n",
    "ones = np.ones([2, 3], dtype=np.float64)\n",
    "\n",
    "print(arr2d_1)\n",
    "print(arr2d_2)\n",
    "print(\"arr2d_2 =>\", arr2d_2.dtype)\n",
    "print(\"arr2d_3 =>\", arr2d_3.dtype)\n",
    "printDash()\n",
    "print(\">เปลี่ยน dtype ของ arr2d_2\")\n",
    "arr2d_2 = arr2d_2.astype(np.float32)\n",
    "print(\"arr2d_2 =>\", arr2d_2.dtype)\n",
    "\n",
    "printDash()\n",
    "ones4d = np.ones([3,1, 2, 3], dtype=np.float64)\n",
    "print(ones4d)\n",
    "print(ones4d.dtype)\n",
    "print(ones4d.ndim)\n",
    "printDash()\n",
    "\n",
    "arr2d_1 = np.array([[1, 2, 3], [4, 5, 6], [7,8,9]])\n",
    "for a in arr2d_1:\n",
    "    print(a)\n",
    "# สังเกตุวงเล็บดีๆ ผลลัพธ์ที่ออกมานั้นเป็นลิสซ้อนลิส ไม่ใช่ ลิส2มิติ\n",
    "\n",
    "\n",
    "focus_2d = arr2d_2\n",
    "for i in range(len(focus_2d)):\n",
    "    for j in range(len(focus_2d[i])):\n",
    "        print(focus_2d[i][j])\n",
    "\n",
    "print(focus_2d.shape)\n",
    "row, col = focus_2d.shape\n",
    "for j in range(col):\n",
    "    for i in range(row):\n",
    "        print(focus_2d[i][j], end=\" \")\n",
    "    print()"
   ]
  },
  {
   "cell_type": "markdown",
   "id": "0c88ec8e-b5fa-4a46-b353-f47678a80e8a",
   "metadata": {},
   "source": [
    "### Array shape\n",
    "- `flatten()` เพื่อแปลง array 2 มิติให้เป็น 1 มิติ\n",
    "- `reshape()` เพื่อเปลี่ยนขนาด array เป็นรูปแบบใหม่ โดยยังคงข้อมูลเดิมไว้"
   ]
  },
  {
   "cell_type": "code",
   "execution_count": null,
   "id": "52d81a61-af1e-4947-a0e5-8bb8eeaf41cb",
   "metadata": {
    "scrolled": true
   },
   "outputs": [],
   "source": [
    "focus_2d = np.array([[1, 2.0, 3], [4, 5, 6]])\n",
    "print(focus_2d.shape())\n",
    "printDash()\n",
    "print(focus_2d.flatten())\n",
    "# (2, 3)\n",
    "print(focus_2d.reshape(focus_2d.shape[1], focus_2d.shape[0]))\n",
    "print(focus_2d.reshape(1, 6))\n",
    "print(focus_2d.reshape(6, 1))\n",
    "print(\"size is \", focus_2d.size)\n",
    "printDash()\n",
    "print(\"แต่ Array จริงๆไม่มีการเปลี่ยนแปลงใดๆ\")\n",
    "print(focus_2d)"
   ]
  },
  {
   "cell_type": "markdown",
   "id": "3b61628f-bfdc-4f92-a3a5-4f50b574d724",
   "metadata": {},
   "source": [
    "### Array2D with Slicing\n",
    "- `np.arange(1, 31)` → สร้าง array จาก 1 ถึง 30\n",
    "- `.reshape(5, 6)` → เปลี่ยนให้เป็น array 2 มิติขนาด 5 แถว 6 คอลัมน์ (คูณแล้วได้ 30)\n",
    "- `.resize(3, 10)` → เปลี่ยนให้เป็น array 2 มิติขนาด 3 แถว 10 คอลัมน์ (คูณแล้วได้ 30) **<font color=\"red\">กระทบตัวแปร Q ทันที</font>** ไม่มีการเขียนทับ\n",
    "- ทำ Slicing เลือก แถวที่ 1 ถึง 3 (`[1:4]`) และ คอลัมน์ที่ 2 ถึง 5 (`[2:6]`)\n",
    "    - แต่มีแค่แถว 0 ถึง 2 ทำให้ผลลัพธ์ออกมา 2 แถว"
   ]
  },
  {
   "cell_type": "code",
   "execution_count": null,
   "id": "61aa09c2-c11b-4cef-b64f-76c66d30542c",
   "metadata": {
    "scrolled": true
   },
   "outputs": [],
   "source": [
    "Q = np.arange(1, 31)\n",
    "print(\"> ตอนนี้รูปร่าง 1x30\")\n",
    "print(Q)\n",
    "print(\"> ปรับรูปร่างให้เป็น 5x6\")\n",
    "# Q = np.array([[ 1,  2  ,3 , 4 , 5 , 6],\n",
    "#              [ 7 ,  8 , 9 ,10 ,11 ,12],\n",
    "#              [13,  14 ,15 ,16 ,17 ,18],\n",
    "#              [19,  20 ,21 ,22 ,23 ,24],\n",
    "#              [25,  26 ,27 ,28 ,29 ,30]])\n",
    "Q = Q.reshape(5,6)\n",
    "print(Q)\n",
    "printDash()\n",
    "print(\"> ปรับรูปร่างให้เป็น 3x10\")\n",
    "Q.resize(3, 10) # เปลี่ยนแปลงตัวแปร Q ทันที\n",
    "print(Q)\n",
    "printDash()\n",
    "print(\"> slicing แถวที่ 1 ถึง 3 [1:4] และ คอลัมน์ที่ 2 ถึง 5 [2:6]\")\n",
    "print(Q[1:4,2:6])\n",
    "print(Q[0:100])"
   ]
  },
  {
   "cell_type": "markdown",
   "id": "23e673c3-0436-435d-9859-29591732eb56",
   "metadata": {},
   "source": [
    "### ข้อควรระวังการ slicing\n",
    "-  คำสั่ง `Q[1:4][0:2]` จะไม่เหมือน `Q[1:4, 0:2]`\n",
    "-  `Q[1:4][0:2]` → จะทำงานแบบ chained indexing"
   ]
  },
  {
   "cell_type": "code",
   "execution_count": null,
   "id": "61ff6d95-1f1d-4de9-95c6-0dbfb4b0af8c",
   "metadata": {},
   "outputs": [],
   "source": [
    "Q = Q.reshape(5,6)\n",
    "print(Q)\n",
    "print(\"> คำสั่ง Q[1:4]\")\n",
    "print(Q[1:4])\n",
    "printDash()\n",
    "print(\"> คำสั่ง Q[1:4, 0:2]\")\n",
    "print(Q[1:4, 0:2])\n",
    "printDash()\n",
    "print(\"> คำสั่ง Q[1:4][0:2]\")\n",
    "print(Q[1:4][0:2])\n",
    "printDash()"
   ]
  },
  {
   "cell_type": "code",
   "execution_count": null,
   "id": "dbd35f49-0264-4e26-b1ac-8d10bfcd9a28",
   "metadata": {},
   "outputs": [],
   "source": [
    "# Create a 2D array\n",
    "arr = np.array([[1, 2], [3, 4]])\n",
    "print(\"Original array:\")\n",
    "print(arr)\n",
    "\n",
    "# Append a row [5, 6]\n",
    "arr = np.append(arr, [[5, 6]], axis=0)\n",
    "print(\"Appended row:\")\n",
    "print(arr)\n",
    "\n",
    "# Append a column [7, 8, 9]\n",
    "arr = np.append(arr, [[7], [8], [9]], axis=1)\n",
    "print(\"Appended column:\")\n",
    "print(arr)\n",
    "\n",
    "# arr[:,0]\n",
    "# arr[:,:1]\n",
    "# arr[:, 0:1]\n",
    "arr[1:,1:]\n",
    "arr[1:3,1:3]"
   ]
  },
  {
   "cell_type": "code",
   "execution_count": null,
   "id": "309b248a-2a78-4312-afb2-fc7834f035ed",
   "metadata": {},
   "outputs": [],
   "source": [
    "# Expand dimensions along axis 0 (add a new row)\n",
    "expanded_row = np.expand_dims(arr, axis=0)\n",
    "print(\"Expanded along axis 0 (new row):\")\n",
    "print(expanded_row)\n",
    "print(expanded_row.shape)\n",
    "print(expanded_row.ndim)\n",
    "\n",
    "# Expand dimensions along axis 1 (add a new column)\n",
    "expanded_column = np.expand_dims(arr, axis=1)\n",
    "# print(\"Expanded along axis 1 (new column):\")\n",
    "print(expanded_column)\n",
    "print(expanded_column.shape)\n",
    "print(expanded_column.ndim)"
   ]
  },
  {
   "cell_type": "markdown",
   "id": "0c30fbe4-3216-4817-be01-0ca7df81c5e4",
   "metadata": {},
   "source": [
    "## 📝 <font color=\"red\">แบบฝึกหัด basic numpy</font>"
   ]
  },
  {
   "cell_type": "markdown",
   "id": "ab76ecee-8427-4adc-bc21-7c4aae7ee4e9",
   "metadata": {},
   "source": [
    "### <font color=\"red\">แบบฝึกหัด 3</font>\n",
    "\n",
    "**สำรวจชนิดข้อมูลและมิติของ Array**\n",
    "\n",
    "1. สร้าง array2d ชื่อ `A` ขนาด 2x3 โดยให้มีทั้งจำนวนเต็มและทศนิยม ด้านในเป็นค่าเท่าไหร่ก็ได้\n",
    "    - จะประกาศด้วย arange() หรือ ใช้ = `[ ., ., .]` ก็ได้\n",
    "3. ตรวจสอบชนิดข้อมูล (`dtype`) ของ `A`\n",
    "4. แปลง `A` ให้เป็น `float32` โดยใช้ `astype()` พร้อมพิมพ์ `dtype` ออกมาเช็ค\n",
    "5. สร้าง array4d ชื่อ `B` ขนาด 3×1×2×3 ที่มีแต่ค่า 1 (`np.ones`) และระบุให้เป็น `float64`\n",
    "6. แสดงจำนวนมิติของ `B` และชนิดข้อมูลของมัน"
   ]
  },
  {
   "cell_type": "code",
   "execution_count": 34,
   "id": "14f16e68-3cad-47b1-b205-5fc421680646",
   "metadata": {},
   "outputs": [
    {
     "name": "stdout",
     "output_type": "stream",
     "text": [
      "[[1 2 3]\n",
      " [4 5 6]]\n",
      "<class 'numpy.ndarray'>\n",
      "float32\n",
      "[[[[1. 1. 1.]\n",
      "   [1. 1. 1.]]]\n",
      "\n",
      "\n",
      " [[[1. 1. 1.]\n",
      "   [1. 1. 1.]]]\n",
      "\n",
      "\n",
      " [[[1. 1. 1.]\n",
      "   [1. 1. 1.]]]]\n",
      "float32\n"
     ]
    }
   ],
   "source": [
    "arr = np.arange(1,7)\n",
    "arr = arr.reshape(2,3)\n",
    "print(arr)\n",
    "print(type(arr))\n",
    "\n",
    "arr = arr.astype(np.float32)\n",
    "print(arr.dtype)\n",
    "\n",
    "B = np.ones([3,1,2,3],dtype = np.float32)\n",
    "print(B)\n",
    "print(B.dtype)"
   ]
  },
  {
   "cell_type": "code",
   "execution_count": null,
   "id": "6a9eb62b-a64c-424e-85a9-e94931bc8926",
   "metadata": {},
   "outputs": [],
   "source": []
  }
 ],
 "metadata": {
  "kernelspec": {
   "display_name": "Python 3 (ipykernel)",
   "language": "python",
   "name": "python3"
  },
  "language_info": {
   "codemirror_mode": {
    "name": "ipython",
    "version": 3
   },
   "file_extension": ".py",
   "mimetype": "text/x-python",
   "name": "python",
   "nbconvert_exporter": "python",
   "pygments_lexer": "ipython3",
   "version": "3.12.3"
  }
 },
 "nbformat": 4,
 "nbformat_minor": 5
}
